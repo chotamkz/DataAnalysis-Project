{
 "cells": [
  {
   "cell_type": "code",
   "execution_count": 1,
   "id": "d5935b9d",
   "metadata": {},
   "outputs": [],
   "source": [
    "import pandas as pd \n",
    "from scipy.stats import ttest_ind\n",
    "import matplotlib.pyplot as plt\n",
    "from sklearn.preprocessing import MinMaxScaler\n",
    "from sklearn.preprocessing import LabelEncoder, OneHotEncoder\n",
    "import numpy as np"
   ]
  },
  {
   "cell_type": "code",
   "execution_count": 2,
   "id": "366699ab",
   "metadata": {
    "scrolled": false
   },
   "outputs": [
    {
     "data": {
      "text/html": [
       "<div>\n",
       "<style scoped>\n",
       "    .dataframe tbody tr th:only-of-type {\n",
       "        vertical-align: middle;\n",
       "    }\n",
       "\n",
       "    .dataframe tbody tr th {\n",
       "        vertical-align: top;\n",
       "    }\n",
       "\n",
       "    .dataframe thead th {\n",
       "        text-align: right;\n",
       "    }\n",
       "</style>\n",
       "<table border=\"1\" class=\"dataframe\">\n",
       "  <thead>\n",
       "    <tr style=\"text-align: right;\">\n",
       "      <th></th>\n",
       "      <th>school</th>\n",
       "      <th>sex</th>\n",
       "      <th>age</th>\n",
       "      <th>address</th>\n",
       "      <th>famsize</th>\n",
       "      <th>Pstatus</th>\n",
       "      <th>Medu</th>\n",
       "      <th>Fedu</th>\n",
       "      <th>Mjob</th>\n",
       "      <th>Fjob</th>\n",
       "      <th>...</th>\n",
       "      <th>famrel</th>\n",
       "      <th>freetime</th>\n",
       "      <th>goout</th>\n",
       "      <th>Dalc</th>\n",
       "      <th>Walc</th>\n",
       "      <th>health</th>\n",
       "      <th>absences</th>\n",
       "      <th>G1</th>\n",
       "      <th>G2</th>\n",
       "      <th>G3</th>\n",
       "    </tr>\n",
       "  </thead>\n",
       "  <tbody>\n",
       "    <tr>\n",
       "      <th>0</th>\n",
       "      <td>GP</td>\n",
       "      <td>F</td>\n",
       "      <td>18</td>\n",
       "      <td>U</td>\n",
       "      <td>GT3</td>\n",
       "      <td>A</td>\n",
       "      <td>4</td>\n",
       "      <td>4</td>\n",
       "      <td>at_home</td>\n",
       "      <td>teacher</td>\n",
       "      <td>...</td>\n",
       "      <td>4</td>\n",
       "      <td>3</td>\n",
       "      <td>4</td>\n",
       "      <td>1</td>\n",
       "      <td>1</td>\n",
       "      <td>3</td>\n",
       "      <td>4</td>\n",
       "      <td>0</td>\n",
       "      <td>11</td>\n",
       "      <td>11</td>\n",
       "    </tr>\n",
       "    <tr>\n",
       "      <th>1</th>\n",
       "      <td>GP</td>\n",
       "      <td>F</td>\n",
       "      <td>17</td>\n",
       "      <td>U</td>\n",
       "      <td>GT3</td>\n",
       "      <td>T</td>\n",
       "      <td>1</td>\n",
       "      <td>1</td>\n",
       "      <td>at_home</td>\n",
       "      <td>other</td>\n",
       "      <td>...</td>\n",
       "      <td>5</td>\n",
       "      <td>3</td>\n",
       "      <td>3</td>\n",
       "      <td>1</td>\n",
       "      <td>1</td>\n",
       "      <td>3</td>\n",
       "      <td>2</td>\n",
       "      <td>9</td>\n",
       "      <td>11</td>\n",
       "      <td>11</td>\n",
       "    </tr>\n",
       "    <tr>\n",
       "      <th>2</th>\n",
       "      <td>GP</td>\n",
       "      <td>F</td>\n",
       "      <td>15</td>\n",
       "      <td>U</td>\n",
       "      <td>LE3</td>\n",
       "      <td>T</td>\n",
       "      <td>1</td>\n",
       "      <td>1</td>\n",
       "      <td>at_home</td>\n",
       "      <td>other</td>\n",
       "      <td>...</td>\n",
       "      <td>4</td>\n",
       "      <td>3</td>\n",
       "      <td>2</td>\n",
       "      <td>2</td>\n",
       "      <td>3</td>\n",
       "      <td>3</td>\n",
       "      <td>6</td>\n",
       "      <td>12</td>\n",
       "      <td>13</td>\n",
       "      <td>12</td>\n",
       "    </tr>\n",
       "    <tr>\n",
       "      <th>3</th>\n",
       "      <td>GP</td>\n",
       "      <td>F</td>\n",
       "      <td>15</td>\n",
       "      <td>U</td>\n",
       "      <td>GT3</td>\n",
       "      <td>T</td>\n",
       "      <td>4</td>\n",
       "      <td>2</td>\n",
       "      <td>health</td>\n",
       "      <td>services</td>\n",
       "      <td>...</td>\n",
       "      <td>3</td>\n",
       "      <td>2</td>\n",
       "      <td>2</td>\n",
       "      <td>1</td>\n",
       "      <td>1</td>\n",
       "      <td>5</td>\n",
       "      <td>0</td>\n",
       "      <td>14</td>\n",
       "      <td>14</td>\n",
       "      <td>14</td>\n",
       "    </tr>\n",
       "    <tr>\n",
       "      <th>4</th>\n",
       "      <td>GP</td>\n",
       "      <td>F</td>\n",
       "      <td>16</td>\n",
       "      <td>U</td>\n",
       "      <td>GT3</td>\n",
       "      <td>T</td>\n",
       "      <td>3</td>\n",
       "      <td>3</td>\n",
       "      <td>other</td>\n",
       "      <td>other</td>\n",
       "      <td>...</td>\n",
       "      <td>4</td>\n",
       "      <td>3</td>\n",
       "      <td>2</td>\n",
       "      <td>1</td>\n",
       "      <td>2</td>\n",
       "      <td>5</td>\n",
       "      <td>0</td>\n",
       "      <td>11</td>\n",
       "      <td>13</td>\n",
       "      <td>13</td>\n",
       "    </tr>\n",
       "  </tbody>\n",
       "</table>\n",
       "<p>5 rows × 33 columns</p>\n",
       "</div>"
      ],
      "text/plain": [
       "  school sex  age address famsize Pstatus  Medu  Fedu     Mjob      Fjob  ...  \\\n",
       "0     GP   F   18       U     GT3       A     4     4  at_home   teacher  ...   \n",
       "1     GP   F   17       U     GT3       T     1     1  at_home     other  ...   \n",
       "2     GP   F   15       U     LE3       T     1     1  at_home     other  ...   \n",
       "3     GP   F   15       U     GT3       T     4     2   health  services  ...   \n",
       "4     GP   F   16       U     GT3       T     3     3    other     other  ...   \n",
       "\n",
       "  famrel freetime  goout  Dalc  Walc health absences  G1  G2  G3  \n",
       "0      4        3      4     1     1      3        4   0  11  11  \n",
       "1      5        3      3     1     1      3        2   9  11  11  \n",
       "2      4        3      2     2     3      3        6  12  13  12  \n",
       "3      3        2      2     1     1      5        0  14  14  14  \n",
       "4      4        3      2     1     2      5        0  11  13  13  \n",
       "\n",
       "[5 rows x 33 columns]"
      ]
     },
     "execution_count": 2,
     "metadata": {},
     "output_type": "execute_result"
    }
   ],
   "source": [
    "data = pd.read_csv(\"student-por.csv\", delimiter=\";\")\n",
    "data.head()"
   ]
  },
  {
   "cell_type": "markdown",
   "id": "0fc05ac1",
   "metadata": {},
   "source": [
    "# 1 What is the distribution of students' ages in the dataset?\n"
   ]
  },
  {
   "cell_type": "code",
   "execution_count": 3,
   "id": "5d2d61d8",
   "metadata": {},
   "outputs": [
    {
     "data": {
      "text/plain": [
       "15    112\n",
       "16    177\n",
       "17    179\n",
       "18    140\n",
       "19     32\n",
       "20      6\n",
       "21      2\n",
       "22      1\n",
       "Name: age, dtype: int64"
      ]
     },
     "execution_count": 3,
     "metadata": {},
     "output_type": "execute_result"
    }
   ],
   "source": [
    "age_distribution = data['age'].value_counts().sort_index()\n",
    "age_distribution"
   ]
  },
  {
   "cell_type": "markdown",
   "id": "f136438a",
   "metadata": {},
   "source": [
    "# 2 How many students belong to each school (GP or MS)?\n"
   ]
  },
  {
   "cell_type": "code",
   "execution_count": 4,
   "id": "5b5ca2e2",
   "metadata": {},
   "outputs": [
    {
     "data": {
      "text/html": [
       "<div>\n",
       "<style scoped>\n",
       "    .dataframe tbody tr th:only-of-type {\n",
       "        vertical-align: middle;\n",
       "    }\n",
       "\n",
       "    .dataframe tbody tr th {\n",
       "        vertical-align: top;\n",
       "    }\n",
       "\n",
       "    .dataframe thead th {\n",
       "        text-align: right;\n",
       "    }\n",
       "</style>\n",
       "<table border=\"1\" class=\"dataframe\">\n",
       "  <thead>\n",
       "    <tr style=\"text-align: right;\">\n",
       "      <th></th>\n",
       "      <th>index</th>\n",
       "      <th>school</th>\n",
       "    </tr>\n",
       "  </thead>\n",
       "  <tbody>\n",
       "    <tr>\n",
       "      <th>0</th>\n",
       "      <td>GP</td>\n",
       "      <td>423</td>\n",
       "    </tr>\n",
       "    <tr>\n",
       "      <th>1</th>\n",
       "      <td>MS</td>\n",
       "      <td>226</td>\n",
       "    </tr>\n",
       "  </tbody>\n",
       "</table>\n",
       "</div>"
      ],
      "text/plain": [
       "  index  school\n",
       "0    GP     423\n",
       "1    MS     226"
      ]
     },
     "execution_count": 4,
     "metadata": {},
     "output_type": "execute_result"
    }
   ],
   "source": [
    "school_count = data[data['school'].isin(['GP', 'MS'])]['school'].value_counts().reset_index()\n",
    "school_count"
   ]
  },
  {
   "cell_type": "markdown",
   "id": "9c063722",
   "metadata": {},
   "source": [
    "# 3 What is the gender distribution of students?\n"
   ]
  },
  {
   "cell_type": "code",
   "execution_count": 5,
   "id": "d9dfebcf",
   "metadata": {},
   "outputs": [
    {
     "data": {
      "text/html": [
       "<div>\n",
       "<style scoped>\n",
       "    .dataframe tbody tr th:only-of-type {\n",
       "        vertical-align: middle;\n",
       "    }\n",
       "\n",
       "    .dataframe tbody tr th {\n",
       "        vertical-align: top;\n",
       "    }\n",
       "\n",
       "    .dataframe thead th {\n",
       "        text-align: right;\n",
       "    }\n",
       "</style>\n",
       "<table border=\"1\" class=\"dataframe\">\n",
       "  <thead>\n",
       "    <tr style=\"text-align: right;\">\n",
       "      <th></th>\n",
       "      <th>index</th>\n",
       "      <th>sex</th>\n",
       "    </tr>\n",
       "  </thead>\n",
       "  <tbody>\n",
       "    <tr>\n",
       "      <th>0</th>\n",
       "      <td>F</td>\n",
       "      <td>383</td>\n",
       "    </tr>\n",
       "    <tr>\n",
       "      <th>1</th>\n",
       "      <td>M</td>\n",
       "      <td>266</td>\n",
       "    </tr>\n",
       "  </tbody>\n",
       "</table>\n",
       "</div>"
      ],
      "text/plain": [
       "  index  sex\n",
       "0     F  383\n",
       "1     M  266"
      ]
     },
     "execution_count": 5,
     "metadata": {},
     "output_type": "execute_result"
    }
   ],
   "source": [
    "gender_distribution = data['sex'].value_counts().reset_index()\n",
    "gender_distribution"
   ]
  },
  {
   "cell_type": "markdown",
   "id": "405922ea",
   "metadata": {},
   "source": [
    "# 4 What is the distribution of students' travel times to school?\n"
   ]
  },
  {
   "cell_type": "code",
   "execution_count": 6,
   "id": "53fb5ee3",
   "metadata": {},
   "outputs": [
    {
     "data": {
      "text/html": [
       "<div>\n",
       "<style scoped>\n",
       "    .dataframe tbody tr th:only-of-type {\n",
       "        vertical-align: middle;\n",
       "    }\n",
       "\n",
       "    .dataframe tbody tr th {\n",
       "        vertical-align: top;\n",
       "    }\n",
       "\n",
       "    .dataframe thead th {\n",
       "        text-align: right;\n",
       "    }\n",
       "</style>\n",
       "<table border=\"1\" class=\"dataframe\">\n",
       "  <thead>\n",
       "    <tr style=\"text-align: right;\">\n",
       "      <th></th>\n",
       "      <th>index</th>\n",
       "      <th>traveltime</th>\n",
       "    </tr>\n",
       "  </thead>\n",
       "  <tbody>\n",
       "    <tr>\n",
       "      <th>0</th>\n",
       "      <td>1</td>\n",
       "      <td>366</td>\n",
       "    </tr>\n",
       "    <tr>\n",
       "      <th>1</th>\n",
       "      <td>2</td>\n",
       "      <td>213</td>\n",
       "    </tr>\n",
       "    <tr>\n",
       "      <th>2</th>\n",
       "      <td>3</td>\n",
       "      <td>54</td>\n",
       "    </tr>\n",
       "    <tr>\n",
       "      <th>3</th>\n",
       "      <td>4</td>\n",
       "      <td>16</td>\n",
       "    </tr>\n",
       "  </tbody>\n",
       "</table>\n",
       "</div>"
      ],
      "text/plain": [
       "   index  traveltime\n",
       "0      1         366\n",
       "1      2         213\n",
       "2      3          54\n",
       "3      4          16"
      ]
     },
     "execution_count": 6,
     "metadata": {},
     "output_type": "execute_result"
    }
   ],
   "source": [
    "travel_time_distribtion = data['traveltime'].value_counts().reset_index()\n",
    "travel_time_distribtion"
   ]
  },
  {
   "cell_type": "markdown",
   "id": "7c73da38",
   "metadata": {},
   "source": [
    "# 5 How do the first period grades (G1) vary with study time (studytime)?\n"
   ]
  },
  {
   "cell_type": "code",
   "execution_count": 7,
   "id": "255bfd08",
   "metadata": {},
   "outputs": [
    {
     "data": {
      "text/html": [
       "<div>\n",
       "<style scoped>\n",
       "    .dataframe tbody tr th:only-of-type {\n",
       "        vertical-align: middle;\n",
       "    }\n",
       "\n",
       "    .dataframe tbody tr th {\n",
       "        vertical-align: top;\n",
       "    }\n",
       "\n",
       "    .dataframe thead th {\n",
       "        text-align: right;\n",
       "    }\n",
       "</style>\n",
       "<table border=\"1\" class=\"dataframe\">\n",
       "  <thead>\n",
       "    <tr style=\"text-align: right;\">\n",
       "      <th></th>\n",
       "      <th>studytime</th>\n",
       "      <th>G1</th>\n",
       "    </tr>\n",
       "  </thead>\n",
       "  <tbody>\n",
       "    <tr>\n",
       "      <th>0</th>\n",
       "      <td>1</td>\n",
       "      <td>10.504717</td>\n",
       "    </tr>\n",
       "    <tr>\n",
       "      <th>1</th>\n",
       "      <td>2</td>\n",
       "      <td>11.537705</td>\n",
       "    </tr>\n",
       "    <tr>\n",
       "      <th>2</th>\n",
       "      <td>3</td>\n",
       "      <td>12.422680</td>\n",
       "    </tr>\n",
       "    <tr>\n",
       "      <th>3</th>\n",
       "      <td>4</td>\n",
       "      <td>12.771429</td>\n",
       "    </tr>\n",
       "  </tbody>\n",
       "</table>\n",
       "</div>"
      ],
      "text/plain": [
       "   studytime         G1\n",
       "0          1  10.504717\n",
       "1          2  11.537705\n",
       "2          3  12.422680\n",
       "3          4  12.771429"
      ]
     },
     "execution_count": 7,
     "metadata": {},
     "output_type": "execute_result"
    }
   ],
   "source": [
    "studytime = data.groupby('studytime')['G1'].mean().reset_index()\n",
    "studytime"
   ]
  },
  {
   "cell_type": "markdown",
   "id": "90e618b0",
   "metadata": {},
   "source": [
    "# 6 Is there a correlation between students' weekly study time (studytime) and their final grades (G3)?\n"
   ]
  },
  {
   "cell_type": "code",
   "execution_count": 8,
   "id": "573b360e",
   "metadata": {},
   "outputs": [
    {
     "data": {
      "text/plain": [
       "0.24978868999886286"
      ]
     },
     "execution_count": 8,
     "metadata": {},
     "output_type": "execute_result"
    }
   ],
   "source": [
    "correlation_studytime = data['studytime'].corr(data['G3'])\n",
    "correlation_studytime"
   ]
  },
  {
   "cell_type": "markdown",
   "id": "04c4a7f6",
   "metadata": {},
   "source": [
    "# 7 How do students' absences (absences) relate to their final grades (G3)?\n"
   ]
  },
  {
   "cell_type": "code",
   "execution_count": 9,
   "id": "ba9112e6",
   "metadata": {},
   "outputs": [
    {
     "data": {
      "text/plain": [
       "-0.09137905643875617"
      ]
     },
     "execution_count": 9,
     "metadata": {},
     "output_type": "execute_result"
    }
   ],
   "source": [
    "correlation_absences = data['absences'].corr(data['G3'])\n",
    "correlation_absences"
   ]
  },
  {
   "cell_type": "markdown",
   "id": "b7e1d1b0",
   "metadata": {},
   "source": [
    "# 8 Are there differences in final grades (G3) between students living in urban (U) and rural (R) areas?\n"
   ]
  },
  {
   "cell_type": "code",
   "execution_count": 10,
   "id": "8a8f06b4",
   "metadata": {},
   "outputs": [
    {
     "name": "stdout",
     "output_type": "stream",
     "text": [
      "T-Statistic: 4.325264214751824\n",
      "P-Value: 1.764153460922413e-05\n",
      "There is a statistically significant difference in final grades between urban and rural students.\n"
     ]
    }
   ],
   "source": [
    "urban_students = data[data['address'] == 'U']\n",
    "rural_students = data[data['address'] == 'R']\n",
    "\n",
    "t_statistic, p_value = ttest_ind(urban_students['G3'], rural_students['G3'])\n",
    "\n",
    "\n",
    "print(\"T-Statistic:\", t_statistic)\n",
    "print(\"P-Value:\", p_value)\n",
    "\n",
    "\n",
    "alpha = 0.05 \n",
    "if p_value < alpha:\n",
    "    print(\"There is a statistically significant difference in final grades between urban and rural students.\")\n",
    "else:\n",
    "    print(\"There is no statistically significant difference in final grades between urban and rural students.\")"
   ]
  },
  {
   "cell_type": "markdown",
   "id": "399ecdf9",
   "metadata": {},
   "source": [
    "# 9 What is the relationship between family size (famsize) and the quality of family relationships (famrel)?\n"
   ]
  },
  {
   "cell_type": "code",
   "execution_count": 11,
   "id": "e343fd58",
   "metadata": {},
   "outputs": [
    {
     "data": {
      "image/png": "[encoded data removed]",
      "text/plain": [
       "<Figure size 640x480 with 1 Axes>"
      ]
     },
     "metadata": {},
     "output_type": "display_data"
    },
    {
     "name": "stdout",
     "output_type": "stream",
     "text": [
      "Mean Family Relationship Quality for GT3: 3.927789934354486\n",
      "Mean Family Relationship Quality for LE3: 3.9375\n"
     ]
    }
   ],
   "source": [
    "famsize_mean = data.groupby('famsize')['famrel'].mean()\n",
    "\n",
    "famsize_mean.plot(kind='bar', color='skyblue')\n",
    "plt.title('Family Size vs. Family Relationship Quality')\n",
    "plt.xlabel('Family Size')\n",
    "plt.ylabel('Average Family Relationship Quality')\n",
    "plt.xticks(rotation=0)\n",
    "plt.show()\n",
    "\n",
    "print(\"Mean Family Relationship Quality for GT3:\", famsize_mean['GT3'])\n",
    "print(\"Mean Family Relationship Quality for LE3:\", famsize_mean['LE3'])"
   ]
  },
  {
   "cell_type": "markdown",
   "id": "2303eb24",
   "metadata": {},
   "source": [
    "# 10 Does the presence of romantic relationships (romantic) affect students' alcohol consumption (Dalc and Walc)?\n"
   ]
  },
  {
   "cell_type": "code",
   "execution_count": 57,
   "id": "58278954",
   "metadata": {},
   "outputs": [
    {
     "data": {
      "image/png": "[encoded data removed]",
      "text/plain": [
       "<Figure size 640x480 with 1 Axes>"
      ]
     },
     "metadata": {},
     "output_type": "display_data"
    }
   ],
   "source": [
    "romantic_students = data[data['romantic'] == 'yes']\n",
    "non_romantic_students = data[data['romantic'] == 'no']\n",
    "\n",
    "mean_Dalc_romantic = romantic_students['Dalc'].mean()\n",
    "mean_Dalc_non_romantic = non_romantic_students['Dalc'].mean()\n",
    "\n",
    "mean_Walc_romantic = romantic_students['Walc'].mean()\n",
    "mean_Walc_non_romantic = non_romantic_students['Walc'].mean()\n",
    "\n",
    "labels = ['With Romantic Relationship', 'Without Romantic Relationship']\n",
    "Dalc_means = [mean_Dalc_romantic, mean_Dalc_non_romantic]\n",
    "Walc_means = [mean_Walc_romantic, mean_Walc_non_romantic]\n",
    "\n",
    "x = range(len(labels))\n",
    "width = 0.35\n",
    "\n",
    "fig, ax = plt.subplots()\n",
    "rects1 = ax.bar(x, Dalc_means, width, label='Daily Alcohol Consumption (Dalc)')\n",
    "rects2 = ax.bar([i + width for i in x], Walc_means, width, label='Weekend Alcohol Consumption (Walc)')\n",
    "\n",
    "ax.set_xlabel('Romantic Relationship Status')\n",
    "ax.set_ylabel('Mean Alcohol Consumption')\n",
    "ax.set_title('Alcohol Consumption by Romantic Relationship Status')\n",
    "ax.set_xticks([i + width/2 for i in x])\n",
    "ax.set_xticklabels(labels)\n",
    "ax.legend()\n",
    "\n",
    "plt.show()"
   ]
  },
  {
   "cell_type": "markdown",
   "id": "f80c4153",
   "metadata": {},
   "source": [
    "# 11 How does the mother's education level (Medu) correlate with the father's education level (Fedu)?\n"
   ]
  },
  {
   "cell_type": "code",
   "execution_count": 13,
   "id": "0da3cd2b",
   "metadata": {},
   "outputs": [
    {
     "data": {
      "text/plain": [
       "0.6474766091364951"
      ]
     },
     "execution_count": 13,
     "metadata": {},
     "output_type": "execute_result"
    }
   ],
   "source": [
    "correlation = data['Medu'].corr(data['Fedu'])\n",
    "correlation"
   ]
  },
  {
   "cell_type": "markdown",
   "id": "3345882e",
   "metadata": {},
   "source": [
    "# 12 Are there differences in students' final grades (G3) based on their parents' cohabitation status (Pstatus)?\n"
   ]
  },
  {
   "cell_type": "code",
   "execution_count": 14,
   "id": "70307486",
   "metadata": {},
   "outputs": [
    {
     "name": "stdout",
     "output_type": "stream",
     "text": [
      "T-Statistic: -0.019176989794419484\n",
      "P-Value: 0.9847058259502668\n",
      "There is no statistically significant difference in final grades between students with cohabiting parents and those with non-cohabiting parents.\n"
     ]
    }
   ],
   "source": [
    "cohabiting_students = data[data['Pstatus'] == 'T']\n",
    "non_cohabiting_students = data[data['Pstatus'] == 'A']\n",
    "\n",
    "t_statistic, p_value = ttest_ind(cohabiting_students['G3'], non_cohabiting_students['G3'])\n",
    "\n",
    "print(\"T-Statistic:\", t_statistic)\n",
    "print(\"P-Value:\", p_value)\n",
    "\n",
    "alpha = 0.05  \n",
    "if p_value < alpha:\n",
    "    print(\"There is a statistically significant difference in final grades between students with cohabiting parents and those with non-cohabiting parents.\")\n",
    "else:\n",
    "    print(\"There is no statistically significant difference in final grades between students with cohabiting parents and those with non-cohabiting parents.\")"
   ]
  },
  {
   "cell_type": "markdown",
   "id": "2278dfea",
   "metadata": {},
   "source": [
    "# 13 Create a histogram of students' final grades (G3) to visualize the grade distribution.\n"
   ]
  },
  {
   "cell_type": "code",
   "execution_count": 15,
   "id": "f6ff0993",
   "metadata": {},
   "outputs": [
    {
     "data": {
      "image/png": "[encoded data removed]",
      "text/plain": [
       "<Figure size 800x600 with 1 Axes>"
      ]
     },
     "metadata": {},
     "output_type": "display_data"
    }
   ],
   "source": [
    "plt.figure(figsize=(8, 6))\n",
    "plt.hist(data['G3'], bins=15, color='skyblue', edgecolor='black')\n",
    "plt.title(\"Distribution of Final Grades (G3)\")\n",
    "plt.xlabel(\"Final Grade (G3)\")\n",
    "plt.ylabel(\"Number of Students\")\n",
    "plt.grid(axis='y', alpha=0.75)\n",
    "plt.show()"
   ]
  },
  {
   "cell_type": "markdown",
   "id": "038d05a6",
   "metadata": {},
   "source": [
    "# 14 Generate a scatter plot to show the relationship between students' age and their first period grades (G1).\n"
   ]
  },
  {
   "cell_type": "code",
   "execution_count": 16,
   "id": "d3944911",
   "metadata": {},
   "outputs": [
    {
     "data": {
      "image/png": "[encoded data removed]",
      "text/plain": [
       "<Figure size 800x600 with 1 Axes>"
      ]
     },
     "metadata": {},
     "output_type": "display_data"
    }
   ],
   "source": [
    "plt.figure(figsize=(8, 6))\n",
    "plt.scatter(data['age'], data['G1'], alpha=0.5, color='skyblue')\n",
    "plt.title(\"Relationship Between Age and First Period Grades (G1)\")\n",
    "plt.xlabel(\"Age\")\n",
    "plt.ylabel(\"First Period Grades (G1)\")\n",
    "plt.grid()\n",
    "plt.show()"
   ]
  },
  {
   "cell_type": "markdown",
   "id": "f6078c45",
   "metadata": {},
   "source": [
    "# 15 Create a bar chart to compare the average final grades (G3) of students with and without extra educational support (schoolsup).\n"
   ]
  },
  {
   "cell_type": "code",
   "execution_count": 54,
   "id": "04ecac40",
   "metadata": {},
   "outputs": [
    {
     "data": {
      "image/png": "[encoded data removed]",
      "text/plain": [
       "<Figure size 800x600 with 1 Axes>"
      ]
     },
     "metadata": {},
     "output_type": "display_data"
    }
   ],
   "source": [
    "grades_with_schoolsup = data[data['schoolsup'] == 'yes']['G3'].mean()\n",
    "grades_without_schoolsup = data[data['schoolsup'] == 'no']['G3'].mean()\n",
    "\n",
    "labels = ['With Extra ES', 'Without Extra ES']\n",
    "grades_means = [grades_with_schoolsup, grades_without_schoolsup]\n",
    "\n",
    "plt.figure(figsize=(8, 6))\n",
    "plt.bar(labels, grades_means, color='skyblue')\n",
    "plt.title(\"Average Final Grades (G3) by Educational Support\")\n",
    "plt.ylabel(\"Average Final Grades (G3)\")\n",
    "plt.xticks(rotation=0)\n",
    "plt.grid(axis='y', alpha=0.75)\n",
    "plt.show()"
   ]
  },
  {
   "cell_type": "markdown",
   "id": "597952d6",
   "metadata": {},
   "source": [
    "# 16 How do final grades (G3) in the math course compare to final grades in the Portuguese course for students who belong to both datasets?"
   ]
  },
  {
   "cell_type": "code",
   "execution_count": 18,
   "id": "7b859aab",
   "metadata": {},
   "outputs": [
    {
     "name": "stdout",
     "output_type": "stream",
     "text": [
      "              G3_M         G3_P\n",
      "count  7771.000000  7771.000000\n",
      "mean     10.608159    12.707245\n",
      "std       4.645223     2.707228\n",
      "min       0.000000     0.000000\n",
      "25%       9.000000    11.000000\n",
      "50%      11.000000    13.000000\n",
      "75%      14.000000    14.000000\n",
      "max      20.000000    19.000000\n"
     ]
    }
   ],
   "source": [
    "\n",
    "data_math = pd.read_csv(\"student-mat.csv\", delimiter=\";\")\n",
    "data_por = pd.read_csv(\"student-por.csv\", delimiter=\";\")\n",
    "\n",
    "common_cols = ['school', 'sex', 'age', 'address', 'famsize']\n",
    "merged_data = pd.merge(data_math, data_por, on=common_cols, suffixes=('_M', '_P'))\n",
    "\n",
    "final_grades_comparison = merged_data[['G3_M', 'G3_P']]\n",
    "\n",
    "print(final_grades_comparison.describe())\n"
   ]
  },
  {
   "cell_type": "markdown",
   "id": "7d59e047",
   "metadata": {},
   "source": [
    "# 17 Create a side-by-side box plot to compare the distribution of final grades (G3) between the math and Portuguese courses."
   ]
  },
  {
   "cell_type": "code",
   "execution_count": 53,
   "id": "0b990ab9",
   "metadata": {},
   "outputs": [
    {
     "data": {
      "image/png": "[encoded data removed]",
      "text/plain": [
       "<Figure size 800x600 with 1 Axes>"
      ]
     },
     "metadata": {},
     "output_type": "display_data"
    }
   ],
   "source": [
    "plt.figure(figsize=(8, 6))\n",
    "\n",
    "plt.boxplot([data_math['G3'], data_por['G3']], labels=['Math Course', 'Portuguese Course'])\n",
    "\n",
    "plt.title('Distribution of Final Grades (G3) in Math and Portuguese Courses')\n",
    "plt.ylabel('Final Grades (G3)')\n",
    "plt.grid(axis='y',  alpha=0.7)\n",
    "plt.show()"
   ]
  },
  {
   "cell_type": "markdown",
   "id": "458445fe",
   "metadata": {},
   "source": [
    "# 18 Is there a significant difference in the average final grades (G3) between male and female students? Conduct a two-sample t-test and visualize the results.\n"
   ]
  },
  {
   "cell_type": "code",
   "execution_count": 20,
   "id": "d56bc9af",
   "metadata": {},
   "outputs": [
    {
     "name": "stdout",
     "output_type": "stream",
     "text": [
      "T-Statistic: -3.310937693029702\n",
      "P-Value: 0.000981528706137396\n"
     ]
    },
    {
     "data": {
      "image/png": "[encoded data removed]",
      "text/plain": [
       "<Figure size 600x400 with 1 Axes>"
      ]
     },
     "metadata": {},
     "output_type": "display_data"
    }
   ],
   "source": [
    "grades_male = data[data['sex'] == 'M']['G3']\n",
    "grades_female = data[data['sex'] == 'F']['G3']\n",
    "\n",
    "t_statistic, p_value = ttest_ind(grades_male, grades_female)\n",
    "\n",
    "print(\"T-Statistic:\", t_statistic)\n",
    "print(\"P-Value:\", p_value)\n",
    "\n",
    "plt.figure(figsize=(6, 4))\n",
    "plt.bar(['Male', 'Female'], [grades_male.mean(), grades_female.mean()], color=['blue', 'red'])\n",
    "plt.title('Average Final Grades (G3) by Gender')\n",
    "plt.ylabel('Average Final Grade (G3)')\n",
    "plt.show()\n"
   ]
  },
  {
   "cell_type": "markdown",
   "id": "ca1fdeb2",
   "metadata": {},
   "source": [
    "# 19 Can you create a new variable that categorizes students into age groups (e.g., 15-17, 18-20, 21-22)? How does this grouping affect the analysis of other variables, such as study time or final math grades (G3)?\n"
   ]
  },
  {
   "cell_type": "code",
   "execution_count": 52,
   "id": "832e5da0",
   "metadata": {},
   "outputs": [
    {
     "name": "stdout",
     "output_type": "stream",
     "text": [
      "Study Time by Age Group\n",
      "age_group\n",
      "15-16    1.914530\n",
      "17-19    2.014286\n",
      "20-21    1.815789\n",
      "22+      2.000000\n",
      "Name: studytime, dtype: float64\n",
      "\n",
      " Final Math Grades G3 by Age Groups\n",
      "age_group\n",
      "15-16    12.126068\n",
      "17-19    11.771429\n",
      "20-21     9.921053\n",
      "22+       9.000000\n",
      "Name: G3, dtype: float64\n"
     ]
    }
   ],
   "source": [
    "bins = [15, 17, 18, 20, 22]\n",
    "labels = ['15-16', '17-19', '20-21', '22+']\n",
    "data['age_group'] = pd.cut(data['age'], bins=bins, labels=labels, include_lowest=True)\n",
    "\n",
    "print(\"Study Time by Age Group\")\n",
    "print(data.groupby('age_group')['studytime'].mean())\n",
    "\n",
    "print(\"\\n Final Math Grades G3 by Age Groups\")\n",
    "print(data.groupby('age_group')['G3'].mean())"
   ]
  },
  {
   "cell_type": "markdown",
   "id": "f95f11e5",
   "metadata": {},
   "source": [
    "# 20 Apply a mathematical transformation, such as logarithm or square root, to the number of school absences (absences). How does this transformation impact the distribution of absences and its relationship with final math grades (G3)?\n"
   ]
  },
  {
   "cell_type": "code",
   "execution_count": 51,
   "id": "6e3c153a",
   "metadata": {},
   "outputs": [
    {
     "data": {
      "image/png": "[encoded data removed]",
      "text/plain": [
       "<Figure size 1000x400 with 2 Axes>"
      ]
     },
     "metadata": {},
     "output_type": "display_data"
    },
    {
     "name": "stdout",
     "output_type": "stream",
     "text": [
      "correlation between Transformed Absences and Final Math Grades (G3) ---> -0.07691336745552811\n"
     ]
    }
   ],
   "source": [
    "data['sqrt_absences'] = np.sqrt(data['absences'])\n",
    "\n",
    "plt.figure(figsize=(10, 4))\n",
    "\n",
    "plt.subplot(1, 2, 1)\n",
    "plt.hist(data['absences'], bins=10, color='skyblue')\n",
    "plt.title('Original Absences Distribution')\n",
    "plt.xlabel('Absences')\n",
    "plt.ylabel('Frequency')\n",
    "\n",
    "plt.subplot(1, 2, 2)\n",
    "plt.hist(data['sqrt_absences'], bins=10, color='lightgreen')\n",
    "plt.title('Transformed Absences Distribution')\n",
    "plt.xlabel('Square Root of Absences')\n",
    "plt.ylabel('Frequency')\n",
    "\n",
    "plt.tight_layout()\n",
    "plt.show()\n",
    "\n",
    "correlation = data['sqrt_absences'].corr(data['G3'])\n",
    "print(\"correlation between Transformed Absences and Final Math Grades (G3) --->\", correlation)"
   ]
  },
  {
   "cell_type": "markdown",
   "id": "2a164539",
   "metadata": {},
   "source": [
    "# 21 Create a new binary variable that indicates whether a student has above-average weekly study time (studytime). How does this modified variable relate to the final math grades (G3)?\n"
   ]
  },
  {
   "cell_type": "code",
   "execution_count": 23,
   "id": "78567769",
   "metadata": {},
   "outputs": [
    {
     "name": "stdout",
     "output_type": "stream",
     "text": [
      "Correlation between Transformed Absences and Final Math Grades (G3): -0.07691336745552811\n",
      "Correlation  0.22906603525792404\n"
     ]
    }
   ],
   "source": [
    "correlation_sqrt_absences = data['sqrt_absences'].corr(data['G3'])\n",
    "print(\"Correlation between Transformed Absences and Final Math Grades (G3):\", correlation_sqrt_absences)\n",
    "\n",
    "average_study_time = data['studytime'].mean()\n",
    "data['above_average_studytime'] = (data['studytime'] > average_study_time).astype(int)\n",
    "\n",
    "correlation_studytime = data['above_average_studytime'].corr(data['G3'])\n",
    "print(\"Correlation \", correlation_studytime)"
   ]
  },
  {
   "cell_type": "markdown",
   "id": "39b4b5dd",
   "metadata": {},
   "source": [
    "# 22 Apply feature scaling (e.g., Min-Max scaling or standardization) to numeric variables like age, absences, and study time. How does this scaling affect the relationships between these variables and math grades (G3)?\n"
   ]
  },
  {
   "cell_type": "code",
   "execution_count": 24,
   "id": "48c40b9b",
   "metadata": {},
   "outputs": [
    {
     "data": {
      "text/plain": [
       "age         -0.106505\n",
       "absences    -0.091379\n",
       "studytime    0.249789\n",
       "G3           1.000000\n",
       "Name: G3, dtype: float64"
      ]
     },
     "execution_count": 24,
     "metadata": {},
     "output_type": "execute_result"
    }
   ],
   "source": [
    "\n",
    "numeric_cols = ['age', 'absences', 'studytime', 'G3']\n",
    "\n",
    "scaler = MinMaxScaler()\n",
    "data_scaled = data.copy()\n",
    "data_scaled[numeric_cols] = scaler.fit_transform(data_scaled[numeric_cols])\n",
    "\n",
    "correlation_scaled = data_scaled[numeric_cols].corr()['G3']\n",
    "correlation_scaled"
   ]
  },
  {
   "cell_type": "markdown",
   "id": "bb7a9aed",
   "metadata": {},
   "source": [
    "# 23 Convert the categorical variables (e.g., \"reason\" and \"Mjob\") into numeric format using label encoding or one-hot encoding. How does this transformation make the data suitable for analysis, and what insights can you gain?\n"
   ]
  },
  {
   "cell_type": "code",
   "execution_count": 25,
   "id": "f9bd14cc",
   "metadata": {},
   "outputs": [
    {
     "name": "stdout",
     "output_type": "stream",
     "text": [
      "Label Encoded Data:\n",
      "   school sex  age address famsize Pstatus  Medu  Fedu  Mjob      Fjob  ...  \\\n",
      "0     GP   F   18       U     GT3       A     4     4     0   teacher  ...   \n",
      "1     GP   F   17       U     GT3       T     1     1     0     other  ...   \n",
      "2     GP   F   15       U     LE3       T     1     1     0     other  ...   \n",
      "3     GP   F   15       U     GT3       T     4     2     1  services  ...   \n",
      "4     GP   F   16       U     GT3       T     3     3     2     other  ...   \n",
      "\n",
      "   Dalc Walc  health  absences  G1  G2  G3 age_group sqrt_absences  \\\n",
      "0     1    1       3         4   0  11  11     17-19      2.000000   \n",
      "1     1    1       3         2   9  11  11     15-16      1.414214   \n",
      "2     2    3       3         6  12  13  12     15-16      2.449490   \n",
      "3     1    1       5         0  14  14  14     15-16      0.000000   \n",
      "4     1    2       5         0  11  13  13     15-16      0.000000   \n",
      "\n",
      "  above_average_studytime  \n",
      "0                       1  \n",
      "1                       1  \n",
      "2                       1  \n",
      "3                       1  \n",
      "4                       1  \n",
      "\n",
      "[5 rows x 36 columns]\n",
      "\n",
      "One-Hot Encoded Data:\n",
      "   school sex  age address famsize Pstatus  Medu  Fedu      Fjob guardian  ...  \\\n",
      "0     GP   F   18       U     GT3       A     4     4   teacher   mother  ...   \n",
      "1     GP   F   17       U     GT3       T     1     1     other   father  ...   \n",
      "2     GP   F   15       U     LE3       T     1     1     other   mother  ...   \n",
      "3     GP   F   15       U     GT3       T     4     2  services   mother  ...   \n",
      "4     GP   F   16       U     GT3       T     3     3     other   father  ...   \n",
      "\n",
      "   age_group  sqrt_absences  above_average_studytime reason_home reason_other  \\\n",
      "0      17-19       2.000000                        1           0            0   \n",
      "1      15-16       1.414214                        1           0            0   \n",
      "2      15-16       2.449490                        1           0            1   \n",
      "3      15-16       0.000000                        1           1            0   \n",
      "4      15-16       0.000000                        1           1            0   \n",
      "\n",
      "  reason_reputation Mjob_health Mjob_other Mjob_services Mjob_teacher  \n",
      "0                 0           0          0             0            0  \n",
      "1                 0           0          0             0            0  \n",
      "2                 0           0          0             0            0  \n",
      "3                 0           1          0             0            0  \n",
      "4                 0           0          1             0            0  \n",
      "\n",
      "[5 rows x 41 columns]\n"
     ]
    }
   ],
   "source": [
    "categorical_cols = ['reason', 'Mjob']\n",
    "\n",
    "label_encoder = LabelEncoder()\n",
    "data_label_encoded = data.copy()\n",
    "data_label_encoded[categorical_cols] = data_label_encoded[categorical_cols].apply(label_encoder.fit_transform)\n",
    "\n",
    "onehot_encoder = OneHotEncoder(sparse=False, drop='first')\n",
    "data_onehot_encoded = data.copy()\n",
    "data_encoded = pd.get_dummies(data_onehot_encoded, columns=categorical_cols, drop_first=True)\n",
    "\n",
    "print(\"Label Encoded Data:\\n\", data_label_encoded.head())\n",
    "print(\"\\nOne-Hot Encoded Data:\\n\", data_encoded.head())\n"
   ]
  },
  {
   "cell_type": "markdown",
   "id": "5f7381dc",
   "metadata": {},
   "source": [
    "# 24 Combine multiple variables (e.g., mother's education and father's education) to create a composite metric representing the overall parental education level. How does this new metric correlate with students' final math grades (G3)?\n"
   ]
  },
  {
   "cell_type": "code",
   "execution_count": 26,
   "id": "951d2b14",
   "metadata": {},
   "outputs": [
    {
     "name": "stdout",
     "output_type": "stream",
     "text": [
      "Corr between Parental Education Level & Final Math Grades (G3): 0.24921658167912006\n"
     ]
    }
   ],
   "source": [
    "data['parental_education'] = data['Medu'] + data['Fedu']\n",
    "correlation_parental_education = data['parental_education'].corr(data['G3'])\n",
    "print(\"Corr between Parental Education Level & Final Math Grades (G3):\", correlation_parental_education)\n"
   ]
  },
  {
   "cell_type": "markdown",
   "id": "5078f188",
   "metadata": {},
   "source": [
    "# 25 Calculate the average weekly study time for students from urban (address = 'U') and rural (address = 'R') areas. Are there differences in study time between these two groups?"
   ]
  },
  {
   "cell_type": "code",
   "execution_count": 27,
   "id": "d29e0826",
   "metadata": {},
   "outputs": [
    {
     "name": "stdout",
     "output_type": "stream",
     "text": [
      "differeneces between U and R:  1.9646017699115044 and 1.8527918781725887\n"
     ]
    }
   ],
   "source": [
    "average_study_time_urban = data[data['address'] == 'U']['studytime'].mean()\n",
    "average_study_time_rural = data[data['address'] == 'R']['studytime'].mean()\n",
    "\n",
    "print('differeneces between U and R: ',average_study_time_urban,'and',  average_study_time_rural)"
   ]
  },
  {
   "cell_type": "markdown",
   "id": "ad60cafa",
   "metadata": {},
   "source": [
    "# 26 For ordinal variables like the quality of family relationships (famrel), assign meaningful labels to the numerical values (e.g., 'very bad,' 'bad,' 'neutral,' 'good,' 'excellent'). How does this transformation make the data more interpretable?\n"
   ]
  },
  {
   "cell_type": "code",
   "execution_count": 28,
   "id": "fe7b9645",
   "metadata": {},
   "outputs": [
    {
     "name": "stdout",
     "output_type": "stream",
     "text": [
      "   famrel famrel_labels\n",
      "0       4          good\n",
      "1       5     excellent\n",
      "2       4          good\n",
      "3       3       neutral\n",
      "4       4          good\n",
      "5       5     excellent\n",
      "6       4          good\n",
      "7       4          good\n",
      "8       4          good\n",
      "9       5     excellent\n"
     ]
    }
   ],
   "source": [
    "labels_map = {\n",
    "    1: 'very bad',\n",
    "    2: 'bad',\n",
    "    3: 'neutral',\n",
    "    4: 'good',\n",
    "    5: 'excellent'\n",
    "}\n",
    "\n",
    "data['famrel_labels'] = data['famrel'].map(labels_map)\n",
    "\n",
    "print(data[['famrel', 'famrel_labels']].head(10))"
   ]
  },
  {
   "cell_type": "markdown",
   "id": "503e4b38",
   "metadata": {},
   "source": [
    "# 27 Apply custom aggregation functions to summarize the data, such as calculating the range of ages within different schools or determining the percentage of students with Internet access (internet = 'yes') by gender. What insights do these custom aggregations provide?"
   ]
  },
  {
   "cell_type": "code",
   "execution_count": 29,
   "id": "ea8f911a",
   "metadata": {},
   "outputs": [
    {
     "data": {
      "text/plain": [
       "school\n",
       "GP    7\n",
       "MS    5\n",
       "Name: age, dtype: int64"
      ]
     },
     "execution_count": 29,
     "metadata": {},
     "output_type": "execute_result"
    }
   ],
   "source": [
    "age_range_by_school = data.groupby('school')['age'].agg(lambda x: x.max() - x.min())\n",
    "age_range_by_school"
   ]
  },
  {
   "cell_type": "markdown",
   "id": "d67588e4",
   "metadata": {},
   "source": [
    "#  28 If relevant, consider applying date-related functions to variables, such as determining the day of the week for which students have the most absences. How does this transformation reveal patterns related to attendance?\n"
   ]
  },
  {
   "cell_type": "markdown",
   "id": "83b6a823",
   "metadata": {},
   "source": [
    "absences_by_day = data['absences'].sum()\n",
    "\n",
    "absences_by_day\n",
    "\n",
    "(exercise is not correct)"
   ]
  },
  {
   "cell_type": "markdown",
   "id": "ac5ed54d",
   "metadata": {},
   "source": [
    "# 29 Calculate the median number of school absences (absences) for students with and without extra educational support (schoolsup)."
   ]
  },
  {
   "cell_type": "code",
   "execution_count": 30,
   "id": "92f0fd4c",
   "metadata": {},
   "outputs": [
    {
     "name": "stdout",
     "output_type": "stream",
     "text": [
      "Median with extra educational support: 2.0\n",
      "Median without extra educational support: 2.0\n"
     ]
    }
   ],
   "source": [
    "data = pd.read_csv(\"student-por.csv\", delimiter=\";\")\n",
    "\n",
    "median_absences_with_support = data[data['schoolsup'] == 'yes']['absences'].median()\n",
    "median_absences_without_support = data[data['schoolsup'] == 'no']['absences'].median()\n",
    "\n",
    "print(f\"Median with extra educational support: {median_absences_with_support}\")\n",
    "print(f\"Median without extra educational support: {median_absences_without_support}\")"
   ]
  },
  {
   "cell_type": "markdown",
   "id": "446ce617",
   "metadata": {},
   "source": [
    "# 30 Calculate the percentage of students who want to take higher education (higher) for each level of father's education (Fedu)"
   ]
  },
  {
   "cell_type": "code",
   "execution_count": 31,
   "id": "1b6ba3c4",
   "metadata": {},
   "outputs": [
    {
     "name": "stdout",
     "output_type": "stream",
     "text": [
      "Fedu\n",
      "0    100.000000\n",
      "1     81.034483\n",
      "2     87.559809\n",
      "3     93.893130\n",
      "4     98.437500\n",
      "Name: higher, dtype: float64\n"
     ]
    }
   ],
   "source": [
    "percentage_higher_by_fedu = data.groupby('Fedu')['higher'].apply(lambda x: (x == 'yes').mean() * 100)\n",
    "\n",
    "print(percentage_higher_by_fedu)\n"
   ]
  },
  {
   "cell_type": "markdown",
   "id": "d7e41301",
   "metadata": {},
   "source": [
    "#  31 Calculate the correlation between travel time (traveltime) and final grades (G3).\n"
   ]
  },
  {
   "cell_type": "code",
   "execution_count": 32,
   "id": "8d70d5e6",
   "metadata": {},
   "outputs": [
    {
     "name": "stdout",
     "output_type": "stream",
     "text": [
      "Correlation  -0.12717296675842057\n"
     ]
    }
   ],
   "source": [
    "correlation_traveltime_g3 = data['traveltime'].astype(float).corr(data['G3'].astype(float))\n",
    "\n",
    "print(f\"Correlation  {correlation_traveltime_g3}\")\n"
   ]
  },
  {
   "cell_type": "markdown",
   "id": "68878d53",
   "metadata": {},
   "source": [
    "# 32 Calculate the weighted average of final grades (G3) using study time (studytime) as weights.\n"
   ]
  },
  {
   "cell_type": "code",
   "execution_count": 33,
   "id": "8889641f",
   "metadata": {},
   "outputs": [
    {
     "data": {
      "text/plain": [
       "12.25219473264166"
      ]
     },
     "execution_count": 33,
     "metadata": {},
     "output_type": "execute_result"
    }
   ],
   "source": [
    "weighted_average_g3 = (data['G3'] * data['studytime']).sum() / data['studytime'].sum()\n",
    "\n",
    "weighted_average_g3"
   ]
  },
  {
   "cell_type": "markdown",
   "id": "b129f6b1",
   "metadata": {},
   "source": [
    "# 33 Find the student with the highest weekend alcohol consumption (Walc).\n"
   ]
  },
  {
   "cell_type": "code",
   "execution_count": 34,
   "id": "ea70beb7",
   "metadata": {},
   "outputs": [
    {
     "name": "stdout",
     "output_type": "stream",
     "text": [
      "school             GP\n",
      "sex                 M\n",
      "age                16\n",
      "address             U\n",
      "famsize           GT3\n",
      "Pstatus             T\n",
      "Medu                4\n",
      "Fedu                4\n",
      "Mjob          teacher\n",
      "Fjob          teacher\n",
      "reason           home\n",
      "guardian       mother\n",
      "traveltime          1\n",
      "studytime           2\n",
      "failures            0\n",
      "schoolsup          no\n",
      "famsup            yes\n",
      "paid              yes\n",
      "activities        yes\n",
      "nursery           yes\n",
      "higher            yes\n",
      "internet          yes\n",
      "romantic          yes\n",
      "famrel              4\n",
      "freetime            4\n",
      "goout               5\n",
      "Dalc                5\n",
      "Walc                5\n",
      "health              5\n",
      "absences            4\n",
      "G1                 12\n",
      "G2                 11\n",
      "G3                 12\n",
      "Name: 29, dtype: object\n"
     ]
    }
   ],
   "source": [
    "student_highest_walc = data.loc[data['Walc'].idxmax()]\n",
    "\n",
    "print(student_highest_walc)\n"
   ]
  },
  {
   "cell_type": "markdown",
   "id": "8daed3f7",
   "metadata": {},
   "source": [
    "# 34 Replace missing values in the 'guardian' column with 'unknown'.\n"
   ]
  },
  {
   "cell_type": "code",
   "execution_count": 35,
   "id": "2f6fdc92",
   "metadata": {},
   "outputs": [
    {
     "name": "stdout",
     "output_type": "stream",
     "text": [
      "mother    455\n",
      "father    153\n",
      "other      41\n",
      "Name: guardian, dtype: int64\n"
     ]
    }
   ],
   "source": [
    "\n",
    "data['guardian'].fillna('unknown', inplace=True)\n",
    "print(data['guardian'].value_counts())\n"
   ]
  },
  {
   "cell_type": "markdown",
   "id": "2c5fc308",
   "metadata": {},
   "source": [
    "# 35 Fill missing values in the 'romantic' column with the most common value."
   ]
  },
  {
   "cell_type": "code",
   "execution_count": 36,
   "id": "6b47d218",
   "metadata": {},
   "outputs": [
    {
     "name": "stdout",
     "output_type": "stream",
     "text": [
      "no     410\n",
      "yes    239\n",
      "Name: romantic, dtype: int64\n"
     ]
    }
   ],
   "source": [
    "most_common_romantic = data['romantic'].mode()[0]\n",
    "data['romantic'].fillna(most_common_romantic, inplace=True)\n",
    "print(data['romantic'].value_counts())\n"
   ]
  },
  {
   "cell_type": "markdown",
   "id": "7a574207",
   "metadata": {},
   "source": [
    "# 36 Create a pivot table to find the maximum and minimum study times for each 'reason' for choosing the school.\n"
   ]
  },
  {
   "cell_type": "code",
   "execution_count": 37,
   "id": "172f13cc",
   "metadata": {},
   "outputs": [
    {
     "name": "stdout",
     "output_type": "stream",
     "text": [
      "                 max       min\n",
      "           studytime studytime\n",
      "reason                        \n",
      "course             4         1\n",
      "home               4         1\n",
      "other              4         1\n",
      "reputation         4         1\n"
     ]
    }
   ],
   "source": [
    "pivot_table_study_times = data.pivot_table(values='studytime', index='reason', aggfunc=['max', 'min'])\n",
    "\n",
    "print(pivot_table_study_times)\n"
   ]
  },
  {
   "cell_type": "markdown",
   "id": "383c7baf",
   "metadata": {},
   "source": [
    "# 37 Check if any student has 'teacher' as both mother's and father's job.\n"
   ]
  },
  {
   "cell_type": "code",
   "execution_count": 38,
   "id": "8a3b7ed8",
   "metadata": {},
   "outputs": [
    {
     "name": "stdout",
     "output_type": "stream",
     "text": [
      "Students with 'teacher' as both mother's and father's job:\n",
      "    school sex  age address famsize Pstatus  Medu  Fedu     Mjob     Fjob  \\\n",
      "29      GP   M   16       U     GT3       T     4     4  teacher  teacher   \n",
      "110     GP   M   15       U     LE3       A     4     4  teacher  teacher   \n",
      "115     GP   M   16       U     GT3       T     4     4  teacher  teacher   \n",
      "128     GP   M   16       R     GT3       T     4     4  teacher  teacher   \n",
      "147     GP   F   15       U     GT3       T     4     4  teacher  teacher   \n",
      "161     GP   M   16       U     GT3       T     4     4  teacher  teacher   \n",
      "213     GP   F   16       U     LE3       T     4     4  teacher  teacher   \n",
      "246     GP   M   17       U     GT3       T     4     4  teacher  teacher   \n",
      "257     GP   M   17       U     GT3       T     4     4  teacher  teacher   \n",
      "335     GP   M   18       U     LE3       A     4     4  teacher  teacher   \n",
      "344     GP   M   18       U     LE3       T     4     4  teacher  teacher   \n",
      "356     GP   F   17       R     GT3       T     4     4  teacher  teacher   \n",
      "381     GP   F   17       U     GT3       T     4     4  teacher  teacher   \n",
      "448     MS   F   16       R     GT3       T     4     4  teacher  teacher   \n",
      "594     MS   F   18       U     GT3       T     4     4  teacher  teacher   \n",
      "636     MS   M   18       U     GT3       T     4     4  teacher  teacher   \n",
      "\n",
      "     ... famrel freetime  goout  Dalc  Walc health absences  G1  G2  G3  \n",
      "29   ...      4        4      5     5     5      5        4  12  11  12  \n",
      "110  ...      5        5      3     1     1      4        4  13  14  14  \n",
      "115  ...      5        4      4     1     2      5        6  16  14  14  \n",
      "128  ...      3        5      5     2     5      4        8  14  14  15  \n",
      "147  ...      4        3      2     1     1      5        6  13  14  14  \n",
      "161  ...      3        3      2     2     1      5       16   9   9   8  \n",
      "213  ...      4        5      2     1     2      3        0  11  10  11  \n",
      "246  ...      4        5      5     1     3      2        0  13  13  13  \n",
      "257  ...      4        2      1     1     2      5        6  10   8   9  \n",
      "335  ...      5        4      3     1     1      2        0  17  17  17  \n",
      "344  ...      1        4      2     2     2      1        0  18  18  17  \n",
      "356  ...      4        4      4     1     1      5        2  15  16  17  \n",
      "381  ...      4        3      3     1     2      4        4  15  14  15  \n",
      "448  ...      4        2      2     1     1      4        6  16  16  17  \n",
      "594  ...      4        3      5     1     2      1        0  18  18  18  \n",
      "636  ...      3        2      4     1     4      2        4  17  18  19  \n",
      "\n",
      "[16 rows x 33 columns]\n"
     ]
    }
   ],
   "source": [
    "teacher_mothers = data[data['Mjob'] == 'teacher']\n",
    "teacher_fathers = data[data['Fjob'] == 'teacher']\n",
    "\n",
    "students_both_teacher_parents = teacher_mothers[teacher_mothers.index.isin(teacher_fathers.index)]\n",
    "\n",
    "if not students_both_teacher_parents.empty:\n",
    "    print(\"Students with 'teacher' as both mother's and father's job:\")\n",
    "    print(students_both_teacher_parents)\n",
    "else:\n",
    "    print(\"No students have 'teacher' as both mother's and father's job.\")\n"
   ]
  },
  {
   "cell_type": "markdown",
   "id": "a9832ea5",
   "metadata": {},
   "source": [
    "# 38 Replace 'at_home' in the 'Mjob' and 'Fjob' columns with 'homemaker'."
   ]
  },
  {
   "cell_type": "code",
   "execution_count": 39,
   "id": "faa4eb75",
   "metadata": {},
   "outputs": [
    {
     "name": "stdout",
     "output_type": "stream",
     "text": [
      "Mjob column:\n",
      "other        258\n",
      "services     136\n",
      "homemaker    135\n",
      "teacher       72\n",
      "health        48\n",
      "Name: Mjob, dtype: int64\n",
      "\n",
      "Fjob column:\n",
      "other        367\n",
      "services     181\n",
      "homemaker     42\n",
      "teacher       36\n",
      "health        23\n",
      "Name: Fjob, dtype: int64\n"
     ]
    }
   ],
   "source": [
    "data['Mjob'].replace('at_home', 'homemaker', inplace=True)\n",
    "data['Fjob'].replace('at_home', 'homemaker', inplace=True)\n",
    "\n",
    "print(\"Mjob column:\")\n",
    "print(data['Mjob'].value_counts())\n",
    "\n",
    "print(\"\\nFjob column:\")\n",
    "print(data['Fjob'].value_counts())"
   ]
  },
  {
   "cell_type": "markdown",
   "id": "d7a1fcef",
   "metadata": {},
   "source": [
    "# 39 Melt the dataset to convert the 'Mjob' and 'Fjob' columns into a single column 'ParentJob' while preserving other columns\n"
   ]
  },
  {
   "cell_type": "code",
   "execution_count": 40,
   "id": "27e86b9c",
   "metadata": {},
   "outputs": [
    {
     "name": "stdout",
     "output_type": "stream",
     "text": [
      "  school sex  age address famsize Pstatus  Medu  Fedu  reason guardian  ...  \\\n",
      "0     GP   F   18       U     GT3       A     4     4  course   mother  ...   \n",
      "1     GP   F   17       U     GT3       T     1     1  course   father  ...   \n",
      "2     GP   F   15       U     LE3       T     1     1   other   mother  ...   \n",
      "3     GP   F   15       U     GT3       T     4     2    home   mother  ...   \n",
      "4     GP   F   16       U     GT3       T     3     3    home   father  ...   \n",
      "\n",
      "   goout  Dalc  Walc health absences  G1  G2  G3 Parent  ParentJob  \n",
      "0      4     1     1      3        4   0  11  11   Mjob  homemaker  \n",
      "1      3     1     1      3        2   9  11  11   Mjob  homemaker  \n",
      "2      2     2     3      3        6  12  13  12   Mjob  homemaker  \n",
      "3      2     1     1      5        0  14  14  14   Mjob     health  \n",
      "4      2     1     2      5        0  11  13  13   Mjob      other  \n",
      "\n",
      "[5 rows x 33 columns]\n"
     ]
    }
   ],
   "source": [
    "id_vars = [col for col in data.columns if col not in ['Mjob', 'Fjob']]\n",
    "\n",
    "melted_data = pd.melt(data, id_vars=id_vars, value_vars=['Mjob', 'Fjob'], var_name='Parent', value_name='ParentJob')\n",
    "\n",
    "print(melted_data.head())\n"
   ]
  },
  {
   "cell_type": "markdown",
   "id": "de319cae",
   "metadata": {},
   "source": [
    "# 41 Create a time series plot showing the trend in weekly study time (studytime) over time for a specific student.\n"
   ]
  },
  {
   "cell_type": "markdown",
   "id": "bc3b3ff3",
   "metadata": {},
   "source": [
    "the dataset does not contain a time-related column, such as dates or weeks\n",
    " Without such temporal information, it is impossible to create a time series graph showing the trend of study time over time for a particular student."
   ]
  },
  {
   "cell_type": "markdown",
   "id": "6ace3558",
   "metadata": {},
   "source": [
    "# 42  Create a new DataFrame that combines data from the Math and Portuguese courses for students who appear in both datasets.\n"
   ]
  },
  {
   "cell_type": "code",
   "execution_count": 41,
   "id": "ea7ad19e",
   "metadata": {},
   "outputs": [
    {
     "name": "stdout",
     "output_type": "stream",
     "text": [
      "  school sex  age address famsize_math Pstatus_math  Medu_math  Fedu_math  \\\n",
      "0     GP   F   18       U          GT3            A          4          4   \n",
      "1     GP   F   18       U          GT3            A          4          4   \n",
      "2     GP   F   18       U          GT3            A          4          4   \n",
      "3     GP   F   18       U          GT3            A          4          4   \n",
      "4     GP   F   18       U          GT3            A          4          4   \n",
      "\n",
      "  Mjob_math Fjob_math  ... famrel_portuguese freetime_portuguese  \\\n",
      "0   at_home   teacher  ...                 4                   3   \n",
      "1   at_home   teacher  ...                 5                   4   \n",
      "2   at_home   teacher  ...                 4                   3   \n",
      "3   at_home   teacher  ...                 4                   3   \n",
      "4   at_home   teacher  ...                 5                   3   \n",
      "\n",
      "   goout_portuguese  Dalc_portuguese  Walc_portuguese health_portuguese  \\\n",
      "0                 4                1                1                 3   \n",
      "1                 5                1                3                 5   \n",
      "2                 3                5                1                 5   \n",
      "3                 3                1                1                 3   \n",
      "4                 1                1                1                 5   \n",
      "\n",
      "  absences_portuguese G1_portuguese G2_portuguese G3_portuguese  \n",
      "0                   4             0            11            11  \n",
      "1                  10            10             9             8  \n",
      "2                  10            12            11            11  \n",
      "3                  18            10            10            10  \n",
      "4                  16             9             8            10  \n",
      "\n",
      "[5 rows x 62 columns]\n"
     ]
    }
   ],
   "source": [
    "data_math = pd.read_csv(\"student-mat.csv\", delimiter=\";\")\n",
    "data_portuguese = pd.read_csv(\"student-por.csv\", delimiter=\";\")\n",
    "\n",
    "common_columns = ['school', 'sex', 'age', 'address']\n",
    "combined_data = pd.merge(data_math, data_portuguese, on=common_columns, suffixes=('_math', '_portuguese'))\n",
    "\n",
    "print(combined_data.head())"
   ]
  },
  {
   "cell_type": "markdown",
   "id": "60475a8b",
   "metadata": {},
   "source": [
    "# 43 Calculate and list the top 5 students with the highest final grades (G3) in the 'GP' school.\n"
   ]
  },
  {
   "cell_type": "code",
   "execution_count": 42,
   "id": "b50a6c65",
   "metadata": {},
   "outputs": [
    {
     "name": "stdout",
     "output_type": "stream",
     "text": [
      "Top 5 students with the highest final grades in the 'GP' school:\n",
      "    school  G3\n",
      "338     GP  19\n",
      "113     GP  18\n",
      "181     GP  18\n",
      "185     GP  18\n",
      "314     GP  18\n"
     ]
    }
   ],
   "source": [
    "gp_students = data[data['school'] == 'GP']\n",
    "\n",
    "top_5_gp_students = gp_students.nlargest(5, 'G3')\n",
    "\n",
    "print(\"Top 5 students with the highest final grades in the 'GP' school:\")\n",
    "print(top_5_gp_students[['school', 'G3']])"
   ]
  },
  {
   "cell_type": "markdown",
   "id": "38a1eabd",
   "metadata": {},
   "source": [
    "# 44 Create a bar chart showing the distribution of students' travel times (traveltime) in the 'MS' school.\n"
   ]
  },
  {
   "cell_type": "code",
   "execution_count": 43,
   "id": "f267eef2",
   "metadata": {},
   "outputs": [
    {
     "data": {
      "image/png": "[encoded data removed]",
      "text/plain": [
       "<Figure size 800x600 with 1 Axes>"
      ]
     },
     "metadata": {},
     "output_type": "display_data"
    }
   ],
   "source": [
    "ms_students = data[data['school'] == 'MS']\n",
    "\n",
    "plt.figure(figsize=(8, 6))\n",
    "ms_students['traveltime'].value_counts().sort_index().plot(kind='bar')\n",
    "plt.title(\"Distribution of Travel Times in the 'MS' School\")\n",
    "plt.xlabel(\"Travel Time\")\n",
    "plt.ylabel(\"Number of Students\")\n",
    "plt.show()"
   ]
  },
  {
   "cell_type": "markdown",
   "id": "71341fa2",
   "metadata": {},
   "source": [
    "# 45 Compute the mean age of students who have extra-curricular activities (activities) and those who don't.\n"
   ]
  },
  {
   "cell_type": "code",
   "execution_count": 44,
   "id": "951297ac",
   "metadata": {},
   "outputs": [
    {
     "name": "stdout",
     "output_type": "stream",
     "text": [
      "extra-curricular  16.676190476190477\n",
      "without activities: 16.808383233532933\n"
     ]
    }
   ],
   "source": [
    "mean_age_with_activities = data[data['activities'] == 'yes']['age'].mean()\n",
    "mean_age_without_activities = data[data['activities'] == 'no']['age'].mean()\n",
    "\n",
    "print(f\"extra-curricular  {mean_age_with_activities}\")\n",
    "print(f\"without activities: {mean_age_without_activities}\")"
   ]
  },
  {
   "cell_type": "markdown",
   "id": "018a9363",
   "metadata": {},
   "source": [
    "# 46 Group the data by 'sex' and 'address,' and find the median number of school absences for each group.\n"
   ]
  },
  {
   "cell_type": "code",
   "execution_count": 45,
   "id": "49deb8a7",
   "metadata": {},
   "outputs": [
    {
     "name": "stdout",
     "output_type": "stream",
     "text": [
      "median number of school abs for sex, address\n",
      "sex  address\n",
      "F    R          2.0\n",
      "     U          2.0\n",
      "M    R          2.0\n",
      "     U          2.0\n",
      "Name: absences, dtype: float64\n"
     ]
    }
   ],
   "source": [
    "absences_median_by_group = data.groupby(['sex', 'address'])['absences'].median()\n",
    "\n",
    "print(\"median number of school abs for sex, address\")\n",
    "print(absences_median_by_group)\n"
   ]
  },
  {
   "cell_type": "markdown",
   "id": "a45ed897",
   "metadata": {},
   "source": [
    "# 47 Calculate the percentage of students who receive extra educational support (schoolsup) in the 'GP' school.\n"
   ]
  },
  {
   "cell_type": "code",
   "execution_count": 46,
   "id": "b999c0e0",
   "metadata": {},
   "outputs": [
    {
     "data": {
      "text/plain": [
       "13.238770685579196"
      ]
     },
     "execution_count": 46,
     "metadata": {},
     "output_type": "execute_result"
    }
   ],
   "source": [
    "gp_students = data[data['school'] == 'GP']\n",
    "\n",
    "percentage_schoolsup_gp = (gp_students['schoolsup'].value_counts(normalize=True) * 100).get('yes', 0)\n",
    "\n",
    "percentage_schoolsup_gp"
   ]
  },
  {
   "cell_type": "markdown",
   "id": "ea0650c2",
   "metadata": {},
   "source": [
    "# 48 Create a scatter plot of 'G1' versus 'G3' for male students from the 'MS' school.\n"
   ]
  },
  {
   "cell_type": "code",
   "execution_count": 47,
   "id": "1e21f316",
   "metadata": {},
   "outputs": [
    {
     "data": {
      "image/png": "[encoded data removed]",
      "text/plain": [
       "<Figure size 900x700 with 1 Axes>"
      ]
     },
     "metadata": {},
     "output_type": "display_data"
    }
   ],
   "source": [
    "ms_male_students = data[(data['school'] == 'MS') & (data['sex'] == 'M')]\n",
    "\n",
    "plt.figure(figsize=(9, 7))\n",
    "plt.scatter(ms_male_students['G1'], ms_male_students['G3'], color='blue', alpha=0.7)\n",
    "plt.title(\"Scatter Plot of G1 vs G3 for Male Students in ms School\")\n",
    "plt.xlabel(\"First Period  (G1)\")\n",
    "plt.ylabel(\"Final  (G3)\")\n",
    "plt.show()\n"
   ]
  },
  {
   "cell_type": "markdown",
   "id": "6426ba36",
   "metadata": {},
   "source": [
    "# 49 Identify students with a unique combination of 'Mjob' and 'Fjob' that appears only once in the dataset."
   ]
  },
  {
   "cell_type": "code",
   "execution_count": 48,
   "id": "4f6cea3b",
   "metadata": {},
   "outputs": [
    {
     "name": "stdout",
     "output_type": "stream",
     "text": [
      "     Mjob       Fjob\n",
      "0  health  homemaker\n"
     ]
    }
   ],
   "source": [
    "job_combinations = data.groupby(['Mjob', 'Fjob']).size()\n",
    "\n",
    "unique_job_combinations = job_combinations[job_combinations == 1]\n",
    "unique_indices = unique_job_combinations.reset_index().set_index(['Mjob', 'Fjob']).index\n",
    "unique_students = data.set_index(['Mjob', 'Fjob']).loc[unique_indices].reset_index()\n",
    "\n",
    "print(unique_students[['Mjob', 'Fjob']])\n"
   ]
  },
  {
   "cell_type": "markdown",
   "id": "98fa5dd0",
   "metadata": {},
   "source": [
    "# 50 Calculate the average final grade (G3) for students from 'GP' and 'MS' schools in each 'studytime' category.\n",
    "\n"
   ]
  },
  {
   "cell_type": "code",
   "execution_count": 49,
   "id": "307854d0",
   "metadata": {},
   "outputs": [
    {
     "name": "stdout",
     "output_type": "stream",
     "text": [
      "school  studytime\n",
      "GP      1            11.529412\n",
      "        2            12.733010\n",
      "        3            13.563380\n",
      "        4            13.407407\n",
      "MS      1             9.967742\n",
      "        2            10.757576\n",
      "        3            12.307692\n",
      "        4            11.875000\n",
      "Name: G3, dtype: float64\n"
     ]
    }
   ],
   "source": [
    "average_grade_by_school_studytime = data.groupby(['school', 'studytime'])['G3'].mean()\n",
    "\n",
    "print(average_grade_by_school_studytime)\n"
   ]
  },
  {
   "cell_type": "code",
   "execution_count": null,
   "id": "8bd49195",
   "metadata": {},
   "outputs": [],
   "source": []
  }
 ],
 "metadata": {
  "kernelspec": {
   "display_name": "Python 3 (ipykernel)",
   "language": "python",
   "name": "python3"
  },
  "language_info": {
   "codemirror_mode": {
    "name": "ipython",
    "version": 3
   },
   "file_extension": ".py",
   "mimetype": "text/x-python",
   "name": "python",
   "nbconvert_exporter": "python",
   "pygments_lexer": "ipython3",
   "version": "3.11.4"
  }
 },
 "nbformat": 4,
 "nbformat_minor": 5
}
